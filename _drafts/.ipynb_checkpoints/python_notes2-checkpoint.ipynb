{
 "cells": [
  {
   "cell_type": "markdown",
   "metadata": {},
   "source": [
    "## Notes from [Hackerrank](www.hackerrank.com) and [Python for everybody](https://www.coursera.org/specializations/python)"
   ]
  },
  {
   "cell_type": "markdown",
   "metadata": {},
   "source": [
    "## 1. Introduction\n",
    "### 1.1 Data type"
   ]
  },
  {
   "cell_type": "markdown",
   "metadata": {},
   "source": [
    "The defualt division in python 2 is integer division. To make float division the default division, we need `from __future__ import division`.\n",
    "\n",
    "Change a list of strings to numbers: `map(float, my_list)`\n",
    "\n",
    "print format:{0:.2f}.format() see [detail](https://docs.python.org/2/tutorial/inputoutput.html)"
   ]
  },
  {
   "cell_type": "markdown",
   "metadata": {},
   "source": [
    "** List **"
   ]
  },
  {
   "cell_type": "code",
   "execution_count": 21,
   "metadata": {
    "collapsed": false
   },
   "outputs": [
    {
     "name": "stdout",
     "output_type": "stream",
     "text": [
      "[1, 4, 5, 2, 2, 10]\n",
      "[1, 4, 5, 2, 2, 10, 20, 30]\n",
      "[1, 'a', 4, 5, 2, 2, 10, 20, 30]\n",
      "[1, 4, 5, 2, 2, 10, 20, 30]\n",
      "[1, 5, 2, 2, 10, 20, 30]\n",
      "[1, 5, 2, 2, 10, 20]\n",
      "1\n",
      "2\n",
      "None\n",
      "[20, 10, 2, 2, 5, 1]\n",
      "None\n",
      "[1, 2, 2, 5, 10, 20]\n",
      "[1, 2, 2, 5, 10, 20]\n",
      "[100, 2, 2, 5, 10, 20]\n",
      "[1, 2, 2, 5, 10, 20]\n"
     ]
    }
   ],
   "source": [
    "a = [1, 4, 5, 2, 2]\n",
    "a.append(10)         # append 10\n",
    "print a\n",
    "a.extend([20, 30])   # add another list\n",
    "print a\n",
    "a.insert(1, 'a')     # insert 'a' at 2nd position\n",
    "print a\n",
    "a.remove('a')        # remove 'a'\n",
    "print a\n",
    "a.pop(1)             # remove the 2nd element\n",
    "print a\n",
    "a.pop()              # if not parameter provided, it will remove the last element\n",
    "print a\n",
    "print a.index(5)     # return the first index of the parameter\n",
    "print a.count(2)     # return the occurence of parameter\n",
    "print a.reverse()    # reverse the list, return None\n",
    "print a\n",
    "print a.sort()       # sort the list, return None\n",
    "print a\n",
    "b = a[:]             # make a copy of list, if a changes, b will NOT change. \n",
    "c = a                # make aliasing of list, if a changes, c will change too.\n",
    "print c\n",
    "a[0] = 100\n",
    "print c\n",
    "print b"
   ]
  },
  {
   "cell_type": "markdown",
   "metadata": {},
   "source": [
    "** Tuple **\n",
    "\n",
    "Tuple is similar as list, but it's immutable."
   ]
  },
  {
   "cell_type": "code",
   "execution_count": 24,
   "metadata": {
    "collapsed": false
   },
   "outputs": [
    {
     "name": "stdout",
     "output_type": "stream",
     "text": [
      "('a', 'b', 'c')\n",
      "(1, 2, 4)\n"
     ]
    }
   ],
   "source": [
    "a = (1, 2, 4)        # one way of initializing a tuple\n",
    "b = tuple('abc')     # another way of initializing \n",
    "a, b = b, a          # You cannot change the element of tuple, but you can redefine them\n",
    "print a\n",
    "print b"
   ]
  },
  {
   "cell_type": "markdown",
   "metadata": {},
   "source": [
    "** Set **\n",
    "\n",
    "Set is the real set, like the mathematical concept."
   ]
  },
  {
   "cell_type": "code",
   "execution_count": 30,
   "metadata": {
    "collapsed": false
   },
   "outputs": [
    {
     "name": "stdout",
     "output_type": "stream",
     "text": [
      "set([1, 2, 3, 4]) set([2, 3, 4, 5])\n",
      "set([1, 2, 3, 4, 'm', 'n'])\n",
      "set([1, 2, 3, 4])\n",
      "set([1, 2, 3, 4, 5])\n",
      "set([1])\n",
      "set([2, 3, 4])\n",
      "set([1, 2, 3, 4]) set([2, 3, 4, 5])\n"
     ]
    }
   ],
   "source": [
    "a = {1, 2, 3, 4, 4}      # one way of initializing set\n",
    "b = set([2, 3, 4, 5,5])  # Another way of initializing\n",
    "print a, b\n",
    "a.add('m')               # add elements\n",
    "a.update('n')            # add elements\n",
    "print a\n",
    "a.discard('m')           # remove elements\n",
    "a.remove('n')            # remove elements\n",
    "print a\n",
    "print a.union(b)               # union a and b, a and b don't change\n",
    "print a.difference(b)          # difference between a and b\n",
    "print a.intersection(b)        # intersect between a and b\n",
    "print a, b"
   ]
  },
  {
   "cell_type": "markdown",
   "metadata": {},
   "source": [
    "** Dict **\n",
    "\n",
    "Dict uses hash table for `in` method, so it's much faster than list."
   ]
  },
  {
   "cell_type": "code",
   "execution_count": 37,
   "metadata": {
    "collapsed": false
   },
   "outputs": [
    {
     "name": "stdout",
     "output_type": "stream",
     "text": [
      "{'c': 3} {'a': 1, 'b': 2}\n",
      "0\n",
      "[('a', 1), ('b', 2)]\n",
      "a 1\n",
      "b 2\n"
     ]
    }
   ],
   "source": [
    "a = dict()                # initalize an empty dict\n",
    "b = {'a': 1, 'b': 2}      # initalize another dict\n",
    "a['c'] = 3\n",
    "print a, b\n",
    "print b.get('c', 0)       # if c in b, return b['c'], otherwise return 0\n",
    "print b.items()           # return a list of tuples\n",
    "\n",
    "for x in b:               # one way of going through the dict\n",
    "    print x, b[x]"
   ]
  },
  {
   "cell_type": "markdown",
   "metadata": {
    "collapsed": false
   },
   "source": [
    "** String **\n",
    "\n",
    "String is also immutable. You cannot change an element of a string.\n",
    "\n",
    "[String functions](https://docs.python.org/2/library/string.html)"
   ]
  },
  {
   "cell_type": "code",
   "execution_count": 48,
   "metadata": {
    "collapsed": false
   },
   "outputs": [
    {
     "name": "stdout",
     "output_type": "stream",
     "text": [
      "abcdef\n",
      "abcdef\n",
      "Abcdef\n",
      "abcdef\n",
      "3\n",
      "6\n",
      "3\n",
      "6\n",
      "2\n",
      "abcdef\n",
      "ABCDEF\n",
      "aBCdEF\n",
      "['ab', 'cd']\n",
      "abcd\n",
      "dd ff \n",
      " dd ff\n",
      "dd ff\n",
      " cc ff \n"
     ]
    }
   ],
   "source": [
    "a = 'absdef'              # one way of changing a string\n",
    "b = list(a)\n",
    "b[2] = 'c'\n",
    "a = ''.join(b)\n",
    "print a\n",
    "\n",
    "a = 'absdef'              # another way of changing a string\n",
    "a = a[:2] + 'c' + a[3:]\n",
    "print a\n",
    "\n",
    "print a.capitalize()      # Capitalize first letter, but a doesn't change\n",
    "print a\n",
    "a = 'abcdefd'\n",
    "print a.find('d')         # return the lowest index\n",
    "print a.rfind('d')        # return the largest index\n",
    "print a.index('d')        # like find(), but return error if 'd' doesn't exist\n",
    "print a.rindex('d')       # similar as rfind()\n",
    "print a.count('d')        # count occurrence \n",
    "\n",
    "a = 'AbcDef'\n",
    "print a.lower()           # lowercase \n",
    "print a.upper()           # uppercase\n",
    "print a.swapcase()        # convert case\n",
    "\n",
    "a = 'ab cd'\n",
    "print a.split()           # split into a list\n",
    "print ''.join(a.split())  # join the string\n",
    "\n",
    "a = ' dd ff '\n",
    "print a.lstrip()          # Return the string, but remove left leading space\n",
    "print a.rstrip()          # Return the string, but remove the right space\n",
    "print a.strip()           # Return the string, but remove both\n",
    "print a.replace('d', 'c') # replace element\n",
    "\n"
   ]
  },
  {
   "cell_type": "code",
   "execution_count": null,
   "metadata": {
    "collapsed": true
   },
   "outputs": [],
   "source": []
  },
  {
   "cell_type": "code",
   "execution_count": 3,
   "metadata": {
    "collapsed": false
   },
   "outputs": [
    {
     "data": {
      "text/plain": [
       "array([[ 0,  1],\n",
       "       [77,  3],\n",
       "       [ 4,  5]])"
      ]
     },
     "execution_count": 3,
     "metadata": {},
     "output_type": "execute_result"
    }
   ],
   "source": [
    "b[1][0] = 77\n",
    "b"
   ]
  },
  {
   "cell_type": "code",
   "execution_count": 4,
   "metadata": {
    "collapsed": false
   },
   "outputs": [
    {
     "data": {
      "text/plain": [
       "array([ 0,  1, 77,  3,  4,  5])"
      ]
     },
     "execution_count": 4,
     "metadata": {},
     "output_type": "execute_result"
    }
   ],
   "source": [
    "a"
   ]
  },
  {
   "cell_type": "markdown",
   "metadata": {},
   "source": [
    "Even you just want to modify `b`, `a` is also changed. Whenever you need a true copy, you need to do the folllowing."
   ]
  },
  {
   "cell_type": "code",
   "execution_count": 5,
   "metadata": {
    "collapsed": false
   },
   "outputs": [
    {
     "data": {
      "text/plain": [
       "array([0, 1, 2, 3, 4, 5])"
      ]
     },
     "execution_count": 5,
     "metadata": {},
     "output_type": "execute_result"
    }
   ],
   "source": [
    "a = np.array([0,1,2,3,4,5])\n",
    "a"
   ]
  },
  {
   "cell_type": "code",
   "execution_count": 6,
   "metadata": {
    "collapsed": false
   },
   "outputs": [
    {
     "data": {
      "text/plain": [
       "array([[0, 1],\n",
       "       [2, 3],\n",
       "       [4, 5]])"
      ]
     },
     "execution_count": 6,
     "metadata": {},
     "output_type": "execute_result"
    }
   ],
   "source": [
    "c = a.reshape((3,2)).copy()\n",
    "c"
   ]
  },
  {
   "cell_type": "code",
   "execution_count": 7,
   "metadata": {
    "collapsed": false
   },
   "outputs": [
    {
     "data": {
      "text/plain": [
       "array([[ 0,  1],\n",
       "       [77,  3],\n",
       "       [ 4,  5]])"
      ]
     },
     "execution_count": 7,
     "metadata": {},
     "output_type": "execute_result"
    }
   ],
   "source": [
    "c[1][0] = 77\n",
    "c"
   ]
  },
  {
   "cell_type": "code",
   "execution_count": 8,
   "metadata": {
    "collapsed": false
   },
   "outputs": [
    {
     "data": {
      "text/plain": [
       "array([0, 1, 2, 3, 4, 5])"
      ]
     },
     "execution_count": 8,
     "metadata": {},
     "output_type": "execute_result"
    }
   ],
   "source": [
    "a"
   ]
  },
  {
   "cell_type": "code",
   "execution_count": null,
   "metadata": {
    "collapsed": true
   },
   "outputs": [],
   "source": []
  }
 ],
 "metadata": {
  "kernelspec": {
   "display_name": "Python 2",
   "language": "python",
   "name": "python2"
  },
  "language_info": {
   "codemirror_mode": {
    "name": "ipython",
    "version": 2
   },
   "file_extension": ".py",
   "mimetype": "text/x-python",
   "name": "python",
   "nbconvert_exporter": "python",
   "pygments_lexer": "ipython2",
   "version": "2.7.10"
  }
 },
 "nbformat": 4,
 "nbformat_minor": 0
}
